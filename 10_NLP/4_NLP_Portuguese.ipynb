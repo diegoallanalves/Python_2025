{
 "cells": [
  {
   "cell_type": "code",
   "execution_count": 12,
   "id": "initial_id",
   "metadata": {
    "collapsed": true,
    "ExecuteTime": {
     "end_time": "2024-01-09T15:48:33.101495600Z",
     "start_time": "2024-01-09T15:48:33.062501800Z"
    }
   },
   "outputs": [],
   "source": [
    "import pandas as pd"
   ]
  },
  {
   "cell_type": "code",
   "execution_count": 13,
   "outputs": [],
   "source": [
    "# souce: https://medium.com/data-hackers/criando-um-modelo-nlp-de-classifica%C3%A7%C3%A3o-de-tweets-com-fklearn-b8ff88b96cde"
   ],
   "metadata": {
    "collapsed": false,
    "ExecuteTime": {
     "end_time": "2024-01-09T15:48:33.101495600Z",
     "start_time": "2024-01-09T15:48:33.066625Z"
    }
   },
   "id": "fc65a0d39ea0ac78"
  },
  {
   "cell_type": "code",
   "execution_count": 14,
   "outputs": [],
   "source": [
    "data = pd.read_csv(\"./Tweets_Mg.csv\", encoding='utf-8')"
   ],
   "metadata": {
    "collapsed": false,
    "ExecuteTime": {
     "end_time": "2024-01-09T15:48:33.114813900Z",
     "start_time": "2024-01-09T15:48:33.071672800Z"
    }
   },
   "id": "c4924067bddb8bd9"
  },
  {
   "cell_type": "code",
   "execution_count": 15,
   "outputs": [
    {
     "data": {
      "text/plain": "   Unnamed: 0                      Created At  \\\n0           0  Sun Jan 08 01:22:05 +0000 2017   \n1           1  Sun Jan 08 01:49:01 +0000 2017   \n2           2  Sun Jan 08 01:01:46 +0000 2017   \n3           3  Wed Jan 04 21:43:51 +0000 2017   \n4           4  Mon Jan 09 15:08:21 +0000 2017   \n\n                                                Text  \\\n0  ���⛪ @ Catedral de Santo Antônio - Governador ...   \n1  � @ Governador Valadares, Minas Gerais https:/...   \n2  �� @ Governador Valadares, Minas Gerais https:...   \n3                        ��� https://t.co/BnDsO34qK0   \n4  ��� PSOL vai questionar aumento de vereadores ...   \n\n   Geo Coordinates.latitude  Geo Coordinates.longitude User Location  \\\n0                       NaN                        NaN        Brasil   \n1                  -41.9333                     -18.85           NaN   \n2                  -41.9333                     -18.85           NaN   \n3                       NaN                        NaN           NaN   \n4                       NaN                        NaN           NaN   \n\n               Username User Screen Name  Retweet Count Classificacao  ...  \\\n0  Leonardo C Schneider    LeoCSchneider              0        Neutro  ...   \n1               Wândell         klefnews              0        Neutro  ...   \n2               Wândell         klefnews              0        Neutro  ...   \n3         Ana estudando  estudandoconcur              0        Neutro  ...   \n4                 Emily         Milly777              0      Negativo  ...   \n\n  Unnamed: 15  Unnamed: 16  Unnamed: 17  Unnamed: 18  Unnamed: 19  \\\n0         NaN          NaN          NaN          NaN          NaN   \n1         NaN          NaN          NaN          NaN          NaN   \n2         NaN          NaN          NaN          NaN          NaN   \n3         NaN          NaN          NaN          NaN          NaN   \n4         NaN          NaN          NaN          NaN          NaN   \n\n   Unnamed: 20  Unnamed: 21  Unnamed: 22  Unnamed: 23  Unnamed: 24  \n0          NaN          NaN          NaN          NaN          NaN  \n1          NaN          NaN          NaN          NaN          NaN  \n2          NaN          NaN          NaN          NaN          NaN  \n3          NaN          NaN          NaN          NaN          NaN  \n4          NaN          NaN          NaN          NaN          NaN  \n\n[5 rows x 26 columns]",
      "text/html": "<div>\n<style scoped>\n    .dataframe tbody tr th:only-of-type {\n        vertical-align: middle;\n    }\n\n    .dataframe tbody tr th {\n        vertical-align: top;\n    }\n\n    .dataframe thead th {\n        text-align: right;\n    }\n</style>\n<table border=\"1\" class=\"dataframe\">\n  <thead>\n    <tr style=\"text-align: right;\">\n      <th></th>\n      <th>Unnamed: 0</th>\n      <th>Created At</th>\n      <th>Text</th>\n      <th>Geo Coordinates.latitude</th>\n      <th>Geo Coordinates.longitude</th>\n      <th>User Location</th>\n      <th>Username</th>\n      <th>User Screen Name</th>\n      <th>Retweet Count</th>\n      <th>Classificacao</th>\n      <th>...</th>\n      <th>Unnamed: 15</th>\n      <th>Unnamed: 16</th>\n      <th>Unnamed: 17</th>\n      <th>Unnamed: 18</th>\n      <th>Unnamed: 19</th>\n      <th>Unnamed: 20</th>\n      <th>Unnamed: 21</th>\n      <th>Unnamed: 22</th>\n      <th>Unnamed: 23</th>\n      <th>Unnamed: 24</th>\n    </tr>\n  </thead>\n  <tbody>\n    <tr>\n      <th>0</th>\n      <td>0</td>\n      <td>Sun Jan 08 01:22:05 +0000 2017</td>\n      <td>���⛪ @ Catedral de Santo Antônio - Governador ...</td>\n      <td>NaN</td>\n      <td>NaN</td>\n      <td>Brasil</td>\n      <td>Leonardo C Schneider</td>\n      <td>LeoCSchneider</td>\n      <td>0</td>\n      <td>Neutro</td>\n      <td>...</td>\n      <td>NaN</td>\n      <td>NaN</td>\n      <td>NaN</td>\n      <td>NaN</td>\n      <td>NaN</td>\n      <td>NaN</td>\n      <td>NaN</td>\n      <td>NaN</td>\n      <td>NaN</td>\n      <td>NaN</td>\n    </tr>\n    <tr>\n      <th>1</th>\n      <td>1</td>\n      <td>Sun Jan 08 01:49:01 +0000 2017</td>\n      <td>� @ Governador Valadares, Minas Gerais https:/...</td>\n      <td>-41.9333</td>\n      <td>-18.85</td>\n      <td>NaN</td>\n      <td>Wândell</td>\n      <td>klefnews</td>\n      <td>0</td>\n      <td>Neutro</td>\n      <td>...</td>\n      <td>NaN</td>\n      <td>NaN</td>\n      <td>NaN</td>\n      <td>NaN</td>\n      <td>NaN</td>\n      <td>NaN</td>\n      <td>NaN</td>\n      <td>NaN</td>\n      <td>NaN</td>\n      <td>NaN</td>\n    </tr>\n    <tr>\n      <th>2</th>\n      <td>2</td>\n      <td>Sun Jan 08 01:01:46 +0000 2017</td>\n      <td>�� @ Governador Valadares, Minas Gerais https:...</td>\n      <td>-41.9333</td>\n      <td>-18.85</td>\n      <td>NaN</td>\n      <td>Wândell</td>\n      <td>klefnews</td>\n      <td>0</td>\n      <td>Neutro</td>\n      <td>...</td>\n      <td>NaN</td>\n      <td>NaN</td>\n      <td>NaN</td>\n      <td>NaN</td>\n      <td>NaN</td>\n      <td>NaN</td>\n      <td>NaN</td>\n      <td>NaN</td>\n      <td>NaN</td>\n      <td>NaN</td>\n    </tr>\n    <tr>\n      <th>3</th>\n      <td>3</td>\n      <td>Wed Jan 04 21:43:51 +0000 2017</td>\n      <td>��� https://t.co/BnDsO34qK0</td>\n      <td>NaN</td>\n      <td>NaN</td>\n      <td>NaN</td>\n      <td>Ana estudando</td>\n      <td>estudandoconcur</td>\n      <td>0</td>\n      <td>Neutro</td>\n      <td>...</td>\n      <td>NaN</td>\n      <td>NaN</td>\n      <td>NaN</td>\n      <td>NaN</td>\n      <td>NaN</td>\n      <td>NaN</td>\n      <td>NaN</td>\n      <td>NaN</td>\n      <td>NaN</td>\n      <td>NaN</td>\n    </tr>\n    <tr>\n      <th>4</th>\n      <td>4</td>\n      <td>Mon Jan 09 15:08:21 +0000 2017</td>\n      <td>��� PSOL vai questionar aumento de vereadores ...</td>\n      <td>NaN</td>\n      <td>NaN</td>\n      <td>NaN</td>\n      <td>Emily</td>\n      <td>Milly777</td>\n      <td>0</td>\n      <td>Negativo</td>\n      <td>...</td>\n      <td>NaN</td>\n      <td>NaN</td>\n      <td>NaN</td>\n      <td>NaN</td>\n      <td>NaN</td>\n      <td>NaN</td>\n      <td>NaN</td>\n      <td>NaN</td>\n      <td>NaN</td>\n      <td>NaN</td>\n    </tr>\n  </tbody>\n</table>\n<p>5 rows × 26 columns</p>\n</div>"
     },
     "execution_count": 15,
     "metadata": {},
     "output_type": "execute_result"
    }
   ],
   "source": [
    "data.head()\n"
   ],
   "metadata": {
    "collapsed": false,
    "ExecuteTime": {
     "end_time": "2024-01-09T15:48:33.116814400Z",
     "start_time": "2024-01-09T15:48:33.103493600Z"
    }
   },
   "id": "357346ef4be79420"
  },
  {
   "cell_type": "code",
   "execution_count": 16,
   "outputs": [
    {
     "data": {
      "text/plain": "(8199, 26)"
     },
     "execution_count": 16,
     "metadata": {},
     "output_type": "execute_result"
    }
   ],
   "source": [
    "data.shape"
   ],
   "metadata": {
    "collapsed": false,
    "ExecuteTime": {
     "end_time": "2024-01-09T15:48:33.124670900Z",
     "start_time": "2024-01-09T15:48:33.114813900Z"
    }
   },
   "id": "fdb1e95ba5e3987d"
  },
  {
   "cell_type": "markdown",
   "source": [
    "THANK YOU😊🎉"
   ],
   "metadata": {
    "collapsed": false
   },
   "id": "9e1b143a6c4543b"
  }
 ],
 "metadata": {
  "kernelspec": {
   "display_name": "Python 3",
   "language": "python",
   "name": "python3"
  },
  "language_info": {
   "codemirror_mode": {
    "name": "ipython",
    "version": 2
   },
   "file_extension": ".py",
   "mimetype": "text/x-python",
   "name": "python",
   "nbconvert_exporter": "python",
   "pygments_lexer": "ipython2",
   "version": "2.7.6"
  }
 },
 "nbformat": 4,
 "nbformat_minor": 5
}
