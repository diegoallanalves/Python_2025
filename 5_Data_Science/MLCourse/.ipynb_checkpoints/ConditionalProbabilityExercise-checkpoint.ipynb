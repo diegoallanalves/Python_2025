{
 "cells": [
  {
   "cell_type": "markdown",
   "metadata": {},
   "source": [
    "# Conditional Probability Activity & Exercise"
   ]
  },
  {
   "cell_type": "markdown",
   "metadata": {},
   "source": [
    "Below is some code to create some fake data on how much stuff people purchase given their age range.\n",
    "\n",
    "It generates 100,000 random \"people\" and randomly assigns them as being in their 20's, 30's, 40's, 50's, 60's, or 70's.\n",
    "\n",
    "It then assigns a lower probability for young people to buy stuff.\n",
    "\n",
    "In the end, we have two Python dictionaries:\n",
    "\n",
    "\"totals\" contains the total number of people in each age group.\n",
    "\"purchases\" contains the total number of things purchased by people in each age group.\n",
    "The grand total of purchases is in totalPurchases, and we know the total number of people is 100,000.\n",
    "\n",
    "Let's run it and have a look:"
   ]
  },
  {
   "cell_type": "code",
   "execution_count": 1,
   "metadata": {},
   "outputs": [],
   "source": [
    "from numpy import random\n",
    "random.seed(0) # this code gives consistency results everytime we run this code. This wont make the results radom but always the same.  \n",
    "\n",
    "totals = {20:0, 30:0, 40:0, 50:0, 60:0, 70:0}\n",
    "purchases = {20:0, 30:0, 40:0, 50:0, 60:0, 70:0}\n",
    "totalPurchases = 0\n",
    "for _ in range(100000):\n",
    "    ageDecade = random.choice([20, 30, 40, 50, 60, 70])\n",
    "    purchaseProbability = float(ageDecade) / 100.0\n",
    "    totals[ageDecade] += 1\n",
    "    if (random.random() < purchaseProbability):\n",
    "        totalPurchases += 1\n",
    "        purchases[ageDecade] += 1"
   ]
  },
  {
   "cell_type": "code",
   "execution_count": 2,
   "metadata": {},
   "outputs": [
    {
     "data": {
      "text/plain": [
       "{20: 16576, 30: 16619, 40: 16632, 50: 16805, 60: 16664, 70: 16704}"
      ]
     },
     "execution_count": 2,
     "metadata": {},
     "output_type": "execute_result"
    }
   ],
   "source": [
    "totals"
   ]
  },
  {
   "cell_type": "code",
   "execution_count": 3,
   "metadata": {},
   "outputs": [
    {
     "data": {
      "text/plain": [
       "{20: 3392, 30: 4974, 40: 6670, 50: 8319, 60: 9944, 70: 11713}"
      ]
     },
     "execution_count": 3,
     "metadata": {},
     "output_type": "execute_result"
    }
   ],
   "source": [
    "purchases"
   ]
  },
  {
   "cell_type": "code",
   "execution_count": 4,
   "metadata": {},
   "outputs": [
    {
     "data": {
      "text/plain": [
       "45012"
      ]
     },
     "execution_count": 4,
     "metadata": {},
     "output_type": "execute_result"
    }
   ],
   "source": [
    "totalPurchases"
   ]
  },
  {
   "cell_type": "markdown",
   "metadata": {},
   "source": [
    "Let's play with conditional probability.\n",
    "\n",
    "First let's compute P(E|F), where E is \"purchase\" and F is \"you're in your 30's\". The probability of someone in their 30's buying something is just the percentage of how many 30-year-olds bought something:"
   ]
  },
  {
   "cell_type": "code",
   "execution_count": 5,
   "metadata": {},
   "outputs": [
    {
     "name": "stdout",
     "output_type": "stream",
     "text": [
      "P(purchase | 30s): 0.299295986521\n"
     ]
    }
   ],
   "source": [
    "PEF = float(purchases[30]) / float(totals[30])\n",
    "print('P(purchase | 30s): ' + str(PEF))"
   ]
  },
  {
   "cell_type": "markdown",
   "metadata": {},
   "source": [
    "P(F) is just the probability of being 30 in this data set:"
   ]
  },
  {
   "cell_type": "code",
   "execution_count": 6,
   "metadata": {},
   "outputs": [
    {
     "name": "stdout",
     "output_type": "stream",
     "text": [
      "P(30's): 0.16619\n"
     ]
    }
   ],
   "source": [
    "PF = float(totals[30]) / 100000.0\n",
    "print(\"P(30's): \" +  str(PF))"
   ]
  },
  {
   "cell_type": "markdown",
   "metadata": {},
   "source": [
    "And P(E) is the overall probability of buying something, regardless of your age:"
   ]
  },
  {
   "cell_type": "code",
   "execution_count": 7,
   "metadata": {},
   "outputs": [
    {
     "name": "stdout",
     "output_type": "stream",
     "text": [
      "P(Purchase):0.45012\n"
     ]
    }
   ],
   "source": [
    "PE = float(totalPurchases) / 100000.0\n",
    "print(\"P(Purchase):\" + str(PE))"
   ]
  },
  {
   "cell_type": "markdown",
   "metadata": {},
   "source": [
    "If E and F were independent, then we would expect P(E | F) to be about the same as P(E). But they're not; P(E) is 0.45, and P(E|F) is 0.3. So, that tells us that E and F are dependent (which we know they are in this example.)"
   ]
  },
  {
   "cell_type": "markdown",
   "metadata": {},
   "source": [
    "P(E,F) is different from P(E|F). P(E,F) would be the probability of both being in your 30's and buying something, out of the total population - not just the population of people in their 30's:"
   ]
  },
  {
   "cell_type": "code",
   "execution_count": 8,
   "metadata": {
    "scrolled": true
   },
   "outputs": [
    {
     "name": "stdout",
     "output_type": "stream",
     "text": [
      "P(30's, Purchase)0.04974\n"
     ]
    }
   ],
   "source": [
    "print(\"P(30's, Purchase)\" + str(float(purchases[30]) / 100000.0))"
   ]
  },
  {
   "cell_type": "markdown",
   "metadata": {},
   "source": [
    "Let's also compute the product of P(E) and P(F), P(E)P(F):"
   ]
  },
  {
   "cell_type": "code",
   "execution_count": 9,
   "metadata": {},
   "outputs": [
    {
     "name": "stdout",
     "output_type": "stream",
     "text": [
      "P(30's)P(Purchase)0.0748054428\n"
     ]
    }
   ],
   "source": [
    "print(\"P(30's)P(Purchase)\" + str(PE * PF))"
   ]
  },
  {
   "cell_type": "markdown",
   "metadata": {},
   "source": [
    "Something you may learn in stats is that P(E,F) = P(E)P(F), but this assumes E and F are independent. We've found here that P(E,F) is about 0.05, while P(E)P(F) is about 0.075. So when E and F are dependent - and we have a conditional probability going on - we can't just say that P(E,F) = P(E)P(F).\n",
    "\n",
    "We can also check that P(E|F) = P(E,F)/P(F), which is the relationship we showed in the slides - and sure enough, it is:"
   ]
  },
  {
   "cell_type": "code",
   "execution_count": 10,
   "metadata": {},
   "outputs": [
    {
     "name": "stdout",
     "output_type": "stream",
     "text": [
      "0.299295986521\n"
     ]
    }
   ],
   "source": [
    "print((purchases[30] / 100000.0) / PF)"
   ]
  },
  {
   "cell_type": "markdown",
   "metadata": {},
   "source": [
    "## Your Assignment"
   ]
  },
  {
   "cell_type": "markdown",
   "metadata": {},
   "source": [
    "Modify the code above such that the purchase probability does NOT vary with age, making E and F actually independent.\n",
    "\n",
    "Then, confirm that P(E|F) is about the same as P(E), showing that the conditional probability of purchase for a given age is not any different than the a-priori probability of purchase regardless of age.\n"
   ]
  },
  {
   "cell_type": "code",
   "execution_count": 11,
   "metadata": {},
   "outputs": [],
   "source": [
    "from numpy import random\n",
    "random.seed(0) # this code gives consistency results everytime we run this code. This wont make the results radom but always the same.  \n",
    "\n",
    "totals = {20:0, 30:0, 40:0, 50:0, 60:0, 70:0}\n",
    "purchases = {20:0, 30:0, 40:0, 50:0, 60:0, 70:0}\n",
    "totalPurchases = 0\n",
    "for _ in range(100000):\n",
    "    ageDecade = random.choice([20, 30, 40, 50, 60, 70])\n",
    "    purchaseProbability = 0.4\n",
    "    totals[ageDecade] += 1\n",
    "    if (random.random() < purchaseProbability):\n",
    "        totalPurchases += 1\n",
    "        purchases[ageDecade] += 1"
   ]
  },
  {
   "cell_type": "code",
   "execution_count": 12,
   "metadata": {},
   "outputs": [
    {
     "data": {
      "text/plain": [
       "{20: 16576, 30: 16619, 40: 16632, 50: 16805, 60: 16664, 70: 16704}"
      ]
     },
     "execution_count": 12,
     "metadata": {},
     "output_type": "execute_result"
    }
   ],
   "source": [
    "totals"
   ]
  },
  {
   "cell_type": "code",
   "execution_count": 13,
   "metadata": {},
   "outputs": [
    {
     "data": {
      "text/plain": [
       "{20: 6710, 30: 6627, 40: 6670, 50: 6665, 60: 6638, 70: 6720}"
      ]
     },
     "execution_count": 13,
     "metadata": {},
     "output_type": "execute_result"
    }
   ],
   "source": [
    "purchases"
   ]
  },
  {
   "cell_type": "code",
   "execution_count": 14,
   "metadata": {},
   "outputs": [
    {
     "data": {
      "text/plain": [
       "40030"
      ]
     },
     "execution_count": 14,
     "metadata": {},
     "output_type": "execute_result"
    }
   ],
   "source": [
    "totalPurchases"
   ]
  },
  {
   "cell_type": "code",
   "execution_count": 15,
   "metadata": {},
   "outputs": [
    {
     "name": "stdout",
     "output_type": "stream",
     "text": [
      "P(purchase | 30s): 0.398760454901\n"
     ]
    }
   ],
   "source": [
    "PEF = float(purchases[30]) / float(totals[30])\n",
    "print('P(purchase | 30s): ' + str(PEF))"
   ]
  },
  {
   "cell_type": "code",
   "execution_count": 16,
   "metadata": {},
   "outputs": [
    {
     "name": "stdout",
     "output_type": "stream",
     "text": [
      "P(Purchase):0.4003\n"
     ]
    }
   ],
   "source": [
    "PE = float(totalPurchases) / 100000.0\n",
    "print(\"P(Purchase):\" + str(PE))"
   ]
  },
  {
   "cell_type": "markdown",
   "metadata": {},
   "source": [
    "## New Example"
   ]
  },
  {
   "cell_type": "code",
   "execution_count": 17,
   "metadata": {},
   "outputs": [],
   "source": [
    "import pandas as pd\n",
    "import numpy as np\n",
    "#Load the data set and repalce the empty rows for NaN valeu\n",
    "data = pd.read_csv('C:\\\\Users\\\\Diego Alves\\\\Desktop\\\\Data_sets\\\\advertising.csv',header=0,encoding = 'unicode_escape')"
   ]
  },
  {
   "cell_type": "code",
   "execution_count": 18,
   "metadata": {},
   "outputs": [],
   "source": [
    "SALES = data[['sales']]\n",
    "TV = data[['TV']]"
   ]
  },
  {
   "cell_type": "code",
   "execution_count": 19,
   "metadata": {},
   "outputs": [
    {
     "data": {
      "text/plain": [
       "[(        TV\n",
       "  0    230.1\n",
       "  1     44.5\n",
       "  2     17.2\n",
       "  3    151.5\n",
       "  4    180.8\n",
       "  5      8.7\n",
       "  6     57.5\n",
       "  7    120.2\n",
       "  8      8.6\n",
       "  9    199.8\n",
       "  10    66.1\n",
       "  11   214.7\n",
       "  12    23.8\n",
       "  13    97.5\n",
       "  14   204.1\n",
       "  15   195.4\n",
       "  16    67.8\n",
       "  17   281.4\n",
       "  18    69.2\n",
       "  19   147.3\n",
       "  20   218.4\n",
       "  21   237.4\n",
       "  22    13.2\n",
       "  23   228.3\n",
       "  24    62.3\n",
       "  25   262.9\n",
       "  26   142.9\n",
       "  27   240.1\n",
       "  28   248.8\n",
       "  29    70.6\n",
       "  ..     ...\n",
       "  170   50.0\n",
       "  171  164.5\n",
       "  172   19.6\n",
       "  173  168.4\n",
       "  174  222.4\n",
       "  175  276.9\n",
       "  176  248.4\n",
       "  177  170.2\n",
       "  178  276.7\n",
       "  179  165.6\n",
       "  180  156.6\n",
       "  181  218.5\n",
       "  182   56.2\n",
       "  183  287.6\n",
       "  184  253.8\n",
       "  185  205.0\n",
       "  186  139.5\n",
       "  187  191.1\n",
       "  188  286.0\n",
       "  189   18.7\n",
       "  190   39.5\n",
       "  191   75.5\n",
       "  192   17.2\n",
       "  193  166.8\n",
       "  194  149.7\n",
       "  195   38.2\n",
       "  196   94.2\n",
       "  197  177.0\n",
       "  198  283.6\n",
       "  199  232.1\n",
       "  \n",
       "  [200 rows x 1 columns],      sales\n",
       "  0     22.1\n",
       "  1     10.4\n",
       "  2      9.3\n",
       "  3     18.5\n",
       "  4     12.9\n",
       "  5      7.2\n",
       "  6     11.8\n",
       "  7     13.2\n",
       "  8      4.8\n",
       "  9     10.6\n",
       "  10     8.6\n",
       "  11    17.4\n",
       "  12     9.2\n",
       "  13     9.7\n",
       "  14    19.0\n",
       "  15    22.4\n",
       "  16    12.5\n",
       "  17    24.4\n",
       "  18    11.3\n",
       "  19    14.6\n",
       "  20    18.0\n",
       "  21    12.5\n",
       "  22     5.6\n",
       "  23    15.5\n",
       "  24     9.7\n",
       "  25    12.0\n",
       "  26    15.0\n",
       "  27    15.9\n",
       "  28    18.9\n",
       "  29    10.5\n",
       "  ..     ...\n",
       "  170    8.4\n",
       "  171   14.5\n",
       "  172    7.6\n",
       "  173   11.7\n",
       "  174   11.5\n",
       "  175   27.0\n",
       "  176   20.2\n",
       "  177   11.7\n",
       "  178   11.8\n",
       "  179   12.6\n",
       "  180   10.5\n",
       "  181   12.2\n",
       "  182    8.7\n",
       "  183   26.2\n",
       "  184   17.6\n",
       "  185   22.6\n",
       "  186   10.3\n",
       "  187   17.3\n",
       "  188   15.9\n",
       "  189    6.7\n",
       "  190   10.8\n",
       "  191    9.9\n",
       "  192    5.9\n",
       "  193   19.6\n",
       "  194   17.3\n",
       "  195    7.6\n",
       "  196    9.7\n",
       "  197   12.8\n",
       "  198   25.5\n",
       "  199   13.4\n",
       "  \n",
       "  [200 rows x 1 columns])]"
      ]
     },
     "execution_count": 19,
     "metadata": {},
     "output_type": "execute_result"
    }
   ],
   "source": [
    "from itertools import product\n",
    "list(product([TV], [SALES]))\n"
   ]
  },
  {
   "cell_type": "code",
   "execution_count": 20,
   "metadata": {},
   "outputs": [],
   "source": [
    "n = 5\n",
    "omega = set(product(['Not Invest', 'Invest'], repeat=n))"
   ]
  },
  {
   "cell_type": "code",
   "execution_count": 21,
   "metadata": {},
   "outputs": [
    {
     "data": {
      "text/plain": [
       "{('Invest', 'Invest', 'Invest', 'Invest', 'Invest'),\n",
       " ('Invest', 'Invest', 'Invest', 'Invest', 'Not Invest'),\n",
       " ('Invest', 'Invest', 'Invest', 'Not Invest', 'Invest'),\n",
       " ('Invest', 'Invest', 'Invest', 'Not Invest', 'Not Invest'),\n",
       " ('Invest', 'Invest', 'Not Invest', 'Invest', 'Invest'),\n",
       " ('Invest', 'Invest', 'Not Invest', 'Invest', 'Not Invest'),\n",
       " ('Invest', 'Invest', 'Not Invest', 'Not Invest', 'Invest'),\n",
       " ('Invest', 'Invest', 'Not Invest', 'Not Invest', 'Not Invest'),\n",
       " ('Invest', 'Not Invest', 'Invest', 'Invest', 'Invest'),\n",
       " ('Invest', 'Not Invest', 'Invest', 'Invest', 'Not Invest'),\n",
       " ('Invest', 'Not Invest', 'Invest', 'Not Invest', 'Invest'),\n",
       " ('Invest', 'Not Invest', 'Invest', 'Not Invest', 'Not Invest'),\n",
       " ('Invest', 'Not Invest', 'Not Invest', 'Invest', 'Invest'),\n",
       " ('Invest', 'Not Invest', 'Not Invest', 'Invest', 'Not Invest'),\n",
       " ('Invest', 'Not Invest', 'Not Invest', 'Not Invest', 'Invest'),\n",
       " ('Invest', 'Not Invest', 'Not Invest', 'Not Invest', 'Not Invest'),\n",
       " ('Not Invest', 'Invest', 'Invest', 'Invest', 'Invest'),\n",
       " ('Not Invest', 'Invest', 'Invest', 'Invest', 'Not Invest'),\n",
       " ('Not Invest', 'Invest', 'Invest', 'Not Invest', 'Invest'),\n",
       " ('Not Invest', 'Invest', 'Invest', 'Not Invest', 'Not Invest'),\n",
       " ('Not Invest', 'Invest', 'Not Invest', 'Invest', 'Invest'),\n",
       " ('Not Invest', 'Invest', 'Not Invest', 'Invest', 'Not Invest'),\n",
       " ('Not Invest', 'Invest', 'Not Invest', 'Not Invest', 'Invest'),\n",
       " ('Not Invest', 'Invest', 'Not Invest', 'Not Invest', 'Not Invest'),\n",
       " ('Not Invest', 'Not Invest', 'Invest', 'Invest', 'Invest'),\n",
       " ('Not Invest', 'Not Invest', 'Invest', 'Invest', 'Not Invest'),\n",
       " ('Not Invest', 'Not Invest', 'Invest', 'Not Invest', 'Invest'),\n",
       " ('Not Invest', 'Not Invest', 'Invest', 'Not Invest', 'Not Invest'),\n",
       " ('Not Invest', 'Not Invest', 'Not Invest', 'Invest', 'Invest'),\n",
       " ('Not Invest', 'Not Invest', 'Not Invest', 'Invest', 'Not Invest'),\n",
       " ('Not Invest', 'Not Invest', 'Not Invest', 'Not Invest', 'Invest'),\n",
       " ('Not Invest', 'Not Invest', 'Not Invest', 'Not Invest', 'Not Invest')}"
      ]
     },
     "execution_count": 21,
     "metadata": {},
     "output_type": "execute_result"
    }
   ],
   "source": [
    "omega"
   ]
  },
  {
   "cell_type": "code",
   "execution_count": 22,
   "metadata": {},
   "outputs": [
    {
     "data": {
      "text/plain": [
       "32"
      ]
     },
     "execution_count": 22,
     "metadata": {},
     "output_type": "execute_result"
    }
   ],
   "source": [
    "len(omega)"
   ]
  },
  {
   "cell_type": "code",
   "execution_count": 31,
   "metadata": {},
   "outputs": [],
   "source": [
    "A = {om for om in omega if om[0] == 'Invest'}\n",
    "B = {om for om in omega if om.count('Invest') == 2}"
   ]
  },
  {
   "cell_type": "code",
   "execution_count": 32,
   "metadata": {},
   "outputs": [
    {
     "data": {
      "text/plain": [
       "{('Invest', 'Invest', 'Invest', 'Invest', 'Invest'),\n",
       " ('Invest', 'Invest', 'Invest', 'Invest', 'Not Invest'),\n",
       " ('Invest', 'Invest', 'Invest', 'Not Invest', 'Invest'),\n",
       " ('Invest', 'Invest', 'Invest', 'Not Invest', 'Not Invest'),\n",
       " ('Invest', 'Invest', 'Not Invest', 'Invest', 'Invest'),\n",
       " ('Invest', 'Invest', 'Not Invest', 'Invest', 'Not Invest'),\n",
       " ('Invest', 'Invest', 'Not Invest', 'Not Invest', 'Invest'),\n",
       " ('Invest', 'Invest', 'Not Invest', 'Not Invest', 'Not Invest'),\n",
       " ('Invest', 'Not Invest', 'Invest', 'Invest', 'Invest'),\n",
       " ('Invest', 'Not Invest', 'Invest', 'Invest', 'Not Invest'),\n",
       " ('Invest', 'Not Invest', 'Invest', 'Not Invest', 'Invest'),\n",
       " ('Invest', 'Not Invest', 'Invest', 'Not Invest', 'Not Invest'),\n",
       " ('Invest', 'Not Invest', 'Not Invest', 'Invest', 'Invest'),\n",
       " ('Invest', 'Not Invest', 'Not Invest', 'Invest', 'Not Invest'),\n",
       " ('Invest', 'Not Invest', 'Not Invest', 'Not Invest', 'Invest'),\n",
       " ('Invest', 'Not Invest', 'Not Invest', 'Not Invest', 'Not Invest')}"
      ]
     },
     "execution_count": 32,
     "metadata": {},
     "output_type": "execute_result"
    }
   ],
   "source": [
    "A"
   ]
  },
  {
   "cell_type": "code",
   "execution_count": 33,
   "metadata": {},
   "outputs": [
    {
     "data": {
      "text/plain": [
       "{('Invest', 'Invest', 'Not Invest', 'Not Invest', 'Not Invest'),\n",
       " ('Invest', 'Not Invest', 'Invest', 'Not Invest', 'Not Invest'),\n",
       " ('Invest', 'Not Invest', 'Not Invest', 'Invest', 'Not Invest'),\n",
       " ('Invest', 'Not Invest', 'Not Invest', 'Not Invest', 'Invest'),\n",
       " ('Not Invest', 'Invest', 'Invest', 'Not Invest', 'Not Invest'),\n",
       " ('Not Invest', 'Invest', 'Not Invest', 'Invest', 'Not Invest'),\n",
       " ('Not Invest', 'Invest', 'Not Invest', 'Not Invest', 'Invest'),\n",
       " ('Not Invest', 'Not Invest', 'Invest', 'Invest', 'Not Invest'),\n",
       " ('Not Invest', 'Not Invest', 'Invest', 'Not Invest', 'Invest'),\n",
       " ('Not Invest', 'Not Invest', 'Not Invest', 'Invest', 'Invest')}"
      ]
     },
     "execution_count": 33,
     "metadata": {},
     "output_type": "execute_result"
    }
   ],
   "source": [
    "B"
   ]
  },
  {
   "cell_type": "code",
   "execution_count": 34,
   "metadata": {},
   "outputs": [],
   "source": [
    "def prob(X):\n",
    "    return len(X) / len(omega)"
   ]
  },
  {
   "cell_type": "code",
   "execution_count": 35,
   "metadata": {},
   "outputs": [],
   "source": [
    "def cond_prob(X, Y):\n",
    "    return len(X & Y) / len(Y)"
   ]
  },
  {
   "cell_type": "code",
   "execution_count": 36,
   "metadata": {},
   "outputs": [
    {
     "data": {
      "text/plain": [
       "0"
      ]
     },
     "execution_count": 36,
     "metadata": {},
     "output_type": "execute_result"
    }
   ],
   "source": [
    "prob(A)"
   ]
  },
  {
   "cell_type": "code",
   "execution_count": 37,
   "metadata": {},
   "outputs": [
    {
     "data": {
      "text/plain": [
       "0"
      ]
     },
     "execution_count": 37,
     "metadata": {},
     "output_type": "execute_result"
    }
   ],
   "source": [
    "prob(B)"
   ]
  },
  {
   "cell_type": "code",
   "execution_count": 38,
   "metadata": {},
   "outputs": [
    {
     "data": {
      "text/plain": [
       "0"
      ]
     },
     "execution_count": 38,
     "metadata": {},
     "output_type": "execute_result"
    }
   ],
   "source": [
    "cond_prob(A, B)"
   ]
  },
  {
   "cell_type": "code",
   "execution_count": 42,
   "metadata": {},
   "outputs": [
    {
     "data": {
      "text/plain": [
       "0"
      ]
     },
     "execution_count": 42,
     "metadata": {},
     "output_type": "execute_result"
    }
   ],
   "source": [
    "prob(A & B)"
   ]
  },
  {
   "cell_type": "code",
   "execution_count": 43,
   "metadata": {},
   "outputs": [
    {
     "data": {
      "text/plain": [
       "0"
      ]
     },
     "execution_count": 43,
     "metadata": {},
     "output_type": "execute_result"
    }
   ],
   "source": [
    "prob(A) * prob(B)"
   ]
  },
  {
   "cell_type": "code",
   "execution_count": 44,
   "metadata": {},
   "outputs": [],
   "source": [
    "def are_indep(X, Y):\n",
    "    return prob(X & Y) == prob(X) * prob(Y)"
   ]
  },
  {
   "cell_type": "code",
   "execution_count": 45,
   "metadata": {},
   "outputs": [
    {
     "data": {
      "text/plain": [
       "True"
      ]
     },
     "execution_count": 45,
     "metadata": {},
     "output_type": "execute_result"
    }
   ],
   "source": [
    "are_indep(A, B)"
   ]
  },
  {
   "cell_type": "code",
   "execution_count": 47,
   "metadata": {},
   "outputs": [],
   "source": [
    "C = {om for om in omega if om[1] == 'H'}"
   ]
  },
  {
   "cell_type": "raw",
   "metadata": {},
   "source": [
    "are_indep(A,C)"
   ]
  },
  {
   "cell_type": "code",
   "execution_count": null,
   "metadata": {},
   "outputs": [],
   "source": []
  }
 ],
 "metadata": {
  "kernelspec": {
   "display_name": "Python 2",
   "language": "python",
   "name": "python2"
  },
  "language_info": {
   "codemirror_mode": {
    "name": "ipython",
    "version": 2
   },
   "file_extension": ".py",
   "mimetype": "text/x-python",
   "name": "python",
   "nbconvert_exporter": "python",
   "pygments_lexer": "ipython2",
   "version": "2.7.16"
  }
 },
 "nbformat": 4,
 "nbformat_minor": 1
}
