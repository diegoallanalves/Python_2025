{
 "cells": [
  {
   "cell_type": "code",
   "execution_count": null,
   "id": "initial_id",
   "metadata": {
    "collapsed": true
   },
   "outputs": [],
   "source": [
    "import webbrowser\n",
    "\n",
    "import matplotlib.pyplot as plt\n",
    "import pandas as pd\n",
    "import numpy as np\n",
    "from matplotlib_inline.config import InlineBackend\n",
    "\n",
    "np.random.seed(0)\n",
    "import statsmodels.api as sm\n",
    "from sklearn.preprocessing import StandardScaler, LabelEncoder\n",
    "\n",
    "scale = StandardScaler()"
   ]
  },
  {
   "cell_type": "code",
   "execution_count": null,
   "outputs": [],
   "source": [
    "# Load the data set and repalce the empty rows for NaN valeu\n",
    "parc = pd.read_excel(\n",
    "    \"C:\\\\Users\\\\alvesd\\\\OneDrive - smmt.co.uk\\\\Desktop\\\\Diego_work_folder\\\\python\\\\33_Sales_Target_Region_Vehicle_Seats\\\\Parc_Data.xlsx\")"
   ],
   "metadata": {
    "collapsed": false
   },
   "id": "daa55b42d1a928ae"
  },
  {
   "cell_type": "code",
   "execution_count": null,
   "outputs": [],
   "source": [
    "# Print Headers\n",
    "print(parc.head(5))\n",
    "# Print columns headers:\n",
    "column_headers = list(parc.columns.values)\n",
    "print(\"The Column Header :\", column_headers)"
   ],
   "metadata": {
    "collapsed": false
   },
   "id": "77cff64f3051eae2"
  },
  {
   "cell_type": "code",
   "execution_count": null,
   "outputs": [],
   "source": [
    "parc = parc[['Postcode District','Make','Body Style','Company/Private','Registrations','Number of Seats', 'Body Style', 'latitude', 'longitude']]\n",
    "#parc =parc[(parc['Number of Seats']==2) & (parc['Company/Private']=='P')] #Filtering\n",
    "#parc =parc[(parc['Number of Seats']==2)] #Filtering\n",
    "#print(parc.head())"
   ],
   "metadata": {
    "collapsed": false
   },
   "id": "59e7323a9522c17"
  },
  {
   "cell_type": "code",
   "execution_count": null,
   "outputs": [],
   "source": [
    "# Turn Texts to numbers\n",
    "le = LabelEncoder()\n",
    "\n",
    "ignore = ['latitude','longitude', 'Postcode District', 'Make']\n",
    "\n",
    "parc = (parc.set_index(ignore, append=True)\n",
    "        .apply(le.fit_transform)\n",
    "        .reset_index(ignore)\n",
    "       )\n",
    "\n",
    "#parc = parc_1[parc_1.columns[:]].apply(le.fit_transform)"
   ],
   "metadata": {
    "collapsed": false
   },
   "id": "22790e47d07ee3ba"
  },
  {
   "cell_type": "code",
   "execution_count": null,
   "outputs": [],
   "source": [
    "parc = parc[['Make', 'Postcode District', 'Company/Private', 'Registrations','Number of Seats', 'Body Style', 'latitude', 'longitude']]"
   ],
   "metadata": {
    "collapsed": false
   },
   "id": "4fd9dd07cfb69136"
  },
  {
   "cell_type": "code",
   "execution_count": null,
   "outputs": [],
   "source": [
    "# Save numeric data to file:\n",
    "parc.to_excel(\n",
    "    'C:\\\\Users\\\\alvesd\\\\OneDrive - smmt.co.uk\\\\Desktop\\\\Diego_work_folder\\\\python\\\\33_Sales_Target_Region_Vehicle_Seats\\\\Parc_Numeric_Data.xlsx',\n",
    "    index=False)"
   ],
   "metadata": {
    "collapsed": false
   },
   "id": "6fc21ce24f8d8d0"
  },
  {
   "cell_type": "code",
   "execution_count": null,
   "outputs": [],
   "source": [
    "# Solihull Prediction\n",
    "predictors = parc[['Number of Seats', 'Body Style']]\n",
    "target = parc['Registrations']"
   ],
   "metadata": {
    "collapsed": false
   },
   "id": "6e67693da84a775e"
  },
  {
   "cell_type": "code",
   "execution_count": null,
   "outputs": [],
   "source": [
    "predictors = pd.get_dummies(predictors)\n",
    "regression_model = sm.OLS(target, predictors)"
   ],
   "metadata": {
    "collapsed": false
   },
   "id": "7e244006ddc4128c"
  },
  {
   "cell_type": "code",
   "execution_count": null,
   "outputs": [],
   "source": [
    "summary_table = regression_model.fit()"
   ],
   "metadata": {
    "collapsed": false
   },
   "id": "96736b47ff7a6a87"
  },
  {
   "cell_type": "code",
   "execution_count": null,
   "outputs": [],
   "source": [
    "print(summary_table.summary())"
   ],
   "metadata": {
    "collapsed": false
   },
   "id": "cdb938f1fbcbe7cc"
  },
  {
   "cell_type": "code",
   "execution_count": null,
   "outputs": [],
   "source": [
    "# Clustering Geolocation Data in Python using DBSCAN and K-Means\n",
    "import os\n",
    "\n",
    "print(os.path.abspath(\".\"))\n",
    "from collections import defaultdict\n",
    "from ipywidgets import interactive\n",
    "import hdbscan\n",
    "import folium\n",
    "import re\n",
    "import matplotlib\n",
    "# %matplotlib inline\n",
    "# %config InlineBackend.figure_format = 'svg'\n",
    "import matplotlib.pyplot as plt\n",
    "\n",
    "plt.style.use('ggplot')\n",
    "import pandas as pd\n",
    "import numpy as np\n",
    "from tqdm import tqdm\n",
    "from sklearn.cluster import KMeans, DBSCAN\n",
    "from sklearn.metrics import silhouette_score\n",
    "from sklearn.datasets import make_blobs\n",
    "from sklearn.neighbors import KNeighborsClassifier\n",
    "import folium\n",
    "from folium import plugins\n",
    "import pandas as pd\n",
    "import matplotlib.pyplot as plt\n",
    "import seaborn as sns\n",
    "from IPython.display import display, HTML"
   ],
   "metadata": {
    "collapsed": false
   },
   "id": "43cbcc4f26cf6226"
  },
  {
   "cell_type": "code",
   "execution_count": null,
   "outputs": [],
   "source": [
    "# Load the data set and repalce the empty rows for NaN valeu\n",
    "parc_cluster = pd.read_excel(\n",
    "    \"C:\\\\Users\\\\alvesd\\\\OneDrive - smmt.co.uk\\\\Desktop\\\\Diego_work_folder\\\\python\\\\33_Sales_Target_Region_Vehicle_Seats\\\\Parc_Data.xlsx\")"
   ],
   "metadata": {
    "collapsed": false
   },
   "id": "1a3f20d2dddc758c"
  },
  {
   "cell_type": "code",
   "execution_count": null,
   "outputs": [],
   "source": [
    "# Define colours:\n",
    "cols = ['#e6194b', '#3cb44b', '#ffe119', '#4363d8', '#f58231', '#911eb4', '#46f0f0', '#f032e6', '#bcf60c', '#fabebe',\n",
    "        '#008080', '#e6beff', '#9a6324', '#fffac8', '#800000', '#aaffc3', '#808000', '#ffd8b1', '#000075',\n",
    "        '#808080'] * 10"
   ],
   "metadata": {
    "collapsed": false
   },
   "id": "fb81600e810fab2b"
  },
  {
   "cell_type": "code",
   "execution_count": null,
   "outputs": [],
   "source": [
    "print(parc_cluster.head())\n",
    "# Drop the Null and duplicates\n",
    "print(parc_cluster.duplicated(subset=['longitude', 'latitude']).values.any())\n",
    "\n",
    "print(parc_cluster.isna().values.any())\n",
    "\n",
    "print(f'Before (Nulls and Duplicates) \\t:\\tParc_cluster.shape = {parc_cluster.shape}')\n",
    "parc_cluster.dropna(inplace=True)\n",
    "parc_cluster.drop_duplicates(subset=['longitude', 'latitude'], keep='first', inplace=True)\n",
    "print(f'After (Nulls and Duplicates) \\t:\\tParc_cluster.shape = {parc_cluster.shape}')"
   ],
   "metadata": {
    "collapsed": false
   },
   "id": "91e715be879df4b1"
  },
  {
   "cell_type": "code",
   "execution_count": null,
   "outputs": [],
   "source": [
    "# Plot the points:\n",
    "X = np.array(parc_cluster[['longitude', 'latitude']], dtype='float64')\n",
    "plt.scatter(X[:, 0], X[:, 1], alpha=0.2, s=50)\n",
    "plt.show()"
   ],
   "metadata": {
    "collapsed": false
   },
   "id": "5740552fa871dd1d"
  },
  {
   "cell_type": "code",
   "execution_count": null,
   "outputs": [],
   "source": [
    "# Using Folium Visualize Geographical Data\n",
    "# Folium\n",
    "# Folium makes it easy to visualize data that’s been manipulated in Python on an interactive leaflet map. It enables both the binding of data to a map for\n",
    "# choropleth visualizations as well as passing rich vector/raster/HTML visualizations as markers on the map.\n",
    "\n",
    "# m = folium.Map(location=[parc_cluster['latitude'].mean(), parc_cluster['longitude'].mean()], zoom_start=9,\n",
    "#               tiles='Stamen Toner')"
   ],
   "metadata": {
    "collapsed": false
   },
   "id": "248dbecbb7dfa1e"
  },
  {
   "cell_type": "code",
   "execution_count": null,
   "outputs": [],
   "source": [
    "m = folium.Map(location=[parc_cluster['latitude'].mean(), parc_cluster['longitude'].mean()], zoom_start=7)\n",
    "\n",
    "for _, row in parc_cluster.iterrows():\n",
    "    folium.CircleMarker(\n",
    "        location=[row.latitude, row.longitude],\n",
    "        radius=5,\n",
    "        popup=re.sub(r'[^a-zA-Z]+', '', row.Make),\n",
    "        color='#1787FE',\n",
    "        fill=True,\n",
    "        fill_color='#1787FE').add_to(m)\n",
    "m.save('seats.html')"
   ],
   "metadata": {
    "collapsed": false
   },
   "id": "cec65ad5e2c40a65"
  },
  {
   "cell_type": "code",
   "execution_count": null,
   "outputs": [],
   "source": [
    "# Clustering Strength\n",
    "X_blobs, _ = make_blobs(n_samples=2653, centers=10,\n",
    "                        n_features=2, cluster_std=0.5, random_state=4)\n",
    "plt.scatter(X_blobs[:, 0], X_blobs[:, 1], alpha=0.2)\n",
    "plt.show()\n"
   ],
   "metadata": {
    "collapsed": false
   },
   "id": "518f917d974af95b"
  },
  {
   "cell_type": "code",
   "execution_count": null,
   "outputs": [],
   "source": [
    "# Load the data set and repalce the empty rows for NaN valeu\n",
    "Parc_Numeric_Data = pd.read_excel(\n",
    "    \"C:\\\\Users\\\\alvesd\\\\OneDrive - smmt.co.uk\\\\Desktop\\\\Diego_work_folder\\\\python\\\\33_Sales_Target_Region_Vehicle_Seats\\\\Parc_Numeric_Data.xlsx\")"
   ],
   "metadata": {
    "collapsed": false
   },
   "id": "f1b53497e5ceaf52"
  },
  {
   "cell_type": "code",
   "execution_count": null,
   "outputs": [],
   "source": [
    "# Drop the Null and duplicates\n",
    "print(Parc_Numeric_Data.duplicated(subset=['longitude', 'latitude']).values.any())"
   ],
   "metadata": {
    "collapsed": false
   },
   "id": "558c0be2b28d30e2"
  },
  {
   "cell_type": "code",
   "execution_count": null,
   "outputs": [],
   "source": [
    "print(Parc_Numeric_Data.isna().values.any())"
   ],
   "metadata": {
    "collapsed": false
   },
   "id": "dc47fe6386da1daf"
  },
  {
   "cell_type": "code",
   "execution_count": null,
   "outputs": [],
   "source": [
    "print(f'Before (Nulls and Duplicates) \\t:\\tParc_cluster.shape = {Parc_Numeric_Data.shape}')\n",
    "Parc_Numeric_Data.dropna(inplace=True)\n",
    "Parc_Numeric_Data.drop_duplicates(subset=['longitude', 'latitude'], keep='first', inplace=True)\n",
    "print(f'After (Nulls and Duplicates) \\t:\\tParc_cluster.shape = {Parc_Numeric_Data.shape}')"
   ],
   "metadata": {
    "collapsed": false
   },
   "id": "e2a1e6b6b2e3d89c"
  },
  {
   "cell_type": "code",
   "execution_count": null,
   "outputs": [],
   "source": [
    "class_predictions = Parc_Numeric_Data['Company/Private']\n",
    "unique_clusters = np.unique(class_predictions)\n",
    "for unique_clusters in unique_clusters:\n",
    "    X = X_blobs[class_predictions == unique_clusters]\n",
    "    plt.scatter(X[:, 0], X[:, 1], alpha=0.2, c=cols[unique_clusters])\n",
    "    plt.show()\n",
    "\n",
    "print(silhouette_score(X_blobs, class_predictions))"
   ],
   "metadata": {
    "collapsed": false
   },
   "id": "3d9f708e01e0884c"
  },
  {
   "cell_type": "code",
   "execution_count": null,
   "outputs": [],
   "source": [
    "class_predictions = Parc_Numeric_Data['Body Style']\n",
    "unique_clusters = np.unique(class_predictions)\n",
    "for unique_clusters in unique_clusters:\n",
    "    X = X_blobs[class_predictions == unique_clusters]\n",
    "    plt.scatter(X[:, 0], X[:, 1], alpha=0.2, c=cols[unique_clusters])\n",
    "    plt.show()\n",
    "\n",
    "print(silhouette_score(X_blobs, class_predictions))"
   ],
   "metadata": {
    "collapsed": false
   },
   "id": "d2dd767359297050"
  },
  {
   "cell_type": "code",
   "execution_count": null,
   "outputs": [],
   "source": [
    "X_blobs, _ = make_blobs(n_samples=1000, centers=50, \n",
    "                        n_features=2, cluster_std=1, random_state=4)"
   ],
   "metadata": {
    "collapsed": false
   },
   "id": "9924bf2c883a711e"
  },
  {
   "cell_type": "code",
   "execution_count": null,
   "outputs": [],
   "source": [
    "data = defaultdict(dict)\n",
    "for x in range(1,21):\n",
    "    model = KMeans(n_clusters=3, random_state=17, \n",
    "                   max_iter=x, n_init=1).fit(X_blobs)\n",
    "    \n",
    "    data[x]['class_predictions'] = model.predict(X_blobs)\n",
    "    data[x]['centroids'] = model.cluster_centers_\n",
    "    data[x]['unique_classes'] = np.unique(class_predictions)"
   ],
   "metadata": {
    "collapsed": false
   },
   "id": "acaa27ef2e67a00e"
  },
  {
   "cell_type": "code",
   "execution_count": null,
   "outputs": [],
   "source": [
    "def f(x):\n",
    "    class_predictions = data[x]['class_predictions']\n",
    "    centroids = data[x]['centroids']\n",
    "    unique_classes = data[x]['unique_classes']\n",
    "    for unique_class in unique_classes:\n",
    "            plt.scatter(X_blobs[class_predictions==unique_class][:,0], \n",
    "                        X_blobs[class_predictions==unique_class][:,1], \n",
    "                        alpha=0.3, c=cols[unique_class])\n",
    "    plt.scatter(centroids[:,0], centroids[:,1], s=200, c='#000000', marker='v')\n",
    "    plt.ylim([-15,15]); plt.xlim([-15,15])\n",
    "    plt.title('How K-Means Clusters')"
   ],
   "metadata": {
    "collapsed": false
   },
   "id": "d40590ca49f42132"
  },
  {
   "cell_type": "code",
   "execution_count": null,
   "outputs": [],
   "source": [
    "interactive_plot = interactive(f, x=(1, 20))\n",
    "output = interactive_plot.children[-1]\n",
    "output.layout.height = '350px'\n",
    "interactive_plot\n",
    "X = np.array(Parc_Numeric_Data[['longitude', 'latitude']], dtype='float64')\n",
    "k = 70\n",
    "model = KMeans(n_clusters=k, random_state=17).fit(X)\n",
    "class_predictions = model.predict(X)\n",
    "Parc_Numeric_Data[f'CLUSTER_kmeans{k}'] = class_predictions\n",
    "# Save numeric data to file:\n",
    "Parc_Numeric_Data.to_excel(\n",
    "    'C:\\\\Users\\\\alvesd\\\\OneDrive - smmt.co.uk\\\\Desktop\\\\Diego_work_folder\\\\python\\\\33_Sales_Target_Region_Vehicle_Seats\\\\Parc_Numeric_Data.xlsx',\n",
    "    index=False)"
   ],
   "metadata": {
    "collapsed": false
   },
   "id": "5df51339fff0e18d"
  },
  {
   "cell_type": "code",
   "execution_count": null,
   "outputs": [],
   "source": [
    "Parc_Numeric_Data_1 = pd.read_excel('C:\\\\Users\\\\alvesd\\\\OneDrive - smmt.co.uk\\\\Desktop\\\\Diego_work_folder\\\\python\\\\33_Sales_Target_Region_Vehicle_Seats\\\\Parc_Numeric_Data.xlsx')\n",
    "Parc_Numeric_Data = Parc_Numeric_Data_1.dropna()\n",
    "Parc_Numeric_Data = Parc_Numeric_Data.reset_index(drop=True)\n",
    "print(Parc_Numeric_Data.head())"
   ],
   "metadata": {
    "collapsed": false
   },
   "id": "856449930a25ccee"
  },
  {
   "cell_type": "code",
   "execution_count": null,
   "outputs": [],
   "source": [
    "Parc_Numeric_Data = Parc_Numeric_Data[['Make', 'Number of Seats', 'latitude', 'longitude']]\n",
    "#Parc_Numeric_Data = Parc_Numeric_Data.drop_duplicates(subset=['Make'])\n",
    "#Parc_Numeric_Data['Postcode District'] = Parc_Numeric_Data['Postcode District'].replace(',', '', regex=True)\n",
    "# Convert the column to floats\n",
    "#Parc_Numeric_Data['Postcode District'] = Parc_Numeric_Data['Postcode District'].astype(float)\n",
    "#Parc_Numeric_Data = Parc_Numeric_Data.head(100)\n",
    "print(Parc_Numeric_Data.head())\n",
    "# Save numeric data to file:\n",
    "Parc_Numeric_Data.to_excel(\n",
    "    'C:\\\\Users\\\\alvesd\\\\OneDrive - smmt.co.uk\\\\Desktop\\\\Diego_work_folder\\\\python\\\\33_Sales_Target_Region_Vehicle_Seats\\\\Parc_Numeric_Data.xlsx',\n",
    "    index=False)"
   ],
   "metadata": {
    "collapsed": false
   },
   "id": "27d9ed5d3f1f2952"
  },
  {
   "cell_type": "code",
   "execution_count": null,
   "outputs": [],
   "source": [
    "import pandas as pd\n",
    "import matplotlib.pyplot as plt\n",
    "from sklearn.cluster import KMeans\n",
    "from scipy.spatial import ConvexHull\n",
    "import folium\n",
    "#df_map = pd.read_excel('input_clustering.xlsx')\n",
    "# 1. Clustering your data into KMeans clustering one of the unsupervise clsutering method\n",
    "#1.1 data preparation\n",
    "X = Parc_Numeric_Data.iloc[:, 1:4].values\n",
    "# Using the elbow method to find the optimal number of clusters\n",
    "wcss = []\n",
    "for i in range(1, 11):\n",
    "    kmeans = KMeans(n_clusters = i, init = 'k-means++', random_state = 42)\n",
    "    kmeans.fit(X)\n",
    "    wcss.append(kmeans.inertia_)\n",
    "plt.plot(range(1, 11), wcss)\n",
    "plt.title('The Elbow Method')\n",
    "plt.xlabel('Number of clusters')\n",
    "plt.ylabel('WCSS')\n",
    "plt.show()"
   ],
   "metadata": {
    "collapsed": false
   },
   "id": "5643d71e12d1f1b2"
  },
  {
   "cell_type": "code",
   "execution_count": null,
   "outputs": [],
   "source": [
    "# 1.2 Training the K-Means model regarding to your elbow method or business logic groups\n",
    "kmeans = KMeans(n_clusters = 4, init = 'k-means++', random_state = 42)\n",
    "y_kmeans = kmeans.fit_predict(X)\n",
    "# 1.3 map data back to df\n",
    "Parc_Numeric_Data['cluster'] = y_kmeans +1 # to step up to group 1 to 4\n",
    "print(Parc_Numeric_Data.head())\n",
    "#parc =parc[(parc['Number of Seats']==2) & (parc['Company/Private']=='P')] #Filtering\n",
    "#Parc_Numeric_Data =Parc_Numeric_Data[(Parc_Numeric_Data['Number of Seats']==2)] #Filtering\n",
    "#print(Parc_Numeric_Data.head())"
   ],
   "metadata": {
    "collapsed": false
   },
   "id": "acdd74b4ff455d93"
  },
  {
   "cell_type": "code",
   "execution_count": null,
   "outputs": [],
   "source": [
    "#2.plot data to map\n",
    "# Create the map object called m which is the base layer of the map\n",
    "m = folium.Map(location=[Parc_Numeric_Data['latitude'].mean(), Parc_Numeric_Data['longitude'].mean()],\n",
    "               tiles='CartoDB positron',\n",
    "               zoom_start=7)\n",
    "# create layers based on your clustering groups\n",
    "layer1 = folium.FeatureGroup(name= '<u><b>group1</b></u>',show= True)\n",
    "m.add_child(layer1)\n",
    "layer2 = folium.FeatureGroup(name= '<u><b>group2</b></u>',show= True)\n",
    "m.add_child(layer2)\n",
    "layer3 = folium.FeatureGroup(name= '<u><b>group3</b></u>',show= True)\n",
    "m.add_child(layer3)\n",
    "layer4 = folium.FeatureGroup(name= '<u><b>group4</b></u>',show= True)\n",
    "m.add_child(layer4)\n",
    "#draw marker class for each group by adding CSS class\n",
    "my_symbol_css_class= \"\"\" <style>\n",
    ".fa-g1:before {\n",
    "    font-family: Arial; \n",
    "    font-weight: bold;\n",
    "    font-size: 12px;\n",
    "    color: black;\n",
    "    background-color:white;\n",
    "    border-radius: 10px; \n",
    "    white-space: pre;\n",
    "    content: ' g1 ';\n",
    "    }\n",
    ".fa-g2:before {\n",
    "    font-family: Arial; \n",
    "    font-weight: bold;\n",
    "    font-size: 12px;\n",
    "    color: black;\n",
    "    background-color:white;\n",
    "    border-radius: 10px; \n",
    "    white-space: pre;\n",
    "    content: ' g2 ';\n",
    "    }\n",
    ".fa-g3:before {\n",
    "    font-family: Arial; \n",
    "    font-weight: bold;\n",
    "    font-size: 12px;\n",
    "    color: black;\n",
    "    background-color:white;\n",
    "    border-radius: 10px; \n",
    "    white-space: pre;\n",
    "    content: ' g3 ';\n",
    "    }\n",
    ".fa-g4:before {\n",
    "    font-family: Arial; \n",
    "    font-weight: bold;\n",
    "    font-size: 12px;\n",
    "    color: black;\n",
    "    background-color:white;\n",
    "    border-radius: 10px; \n",
    "    white-space: pre;\n",
    "    content: ' g4 ';\n",
    "    }\n",
    ".fa-g1bad:before {\n",
    "    font-family: Arial; \n",
    "    font-weight: bold;\n",
    "    font-size: 12px;\n",
    "    color: white;\n",
    "    background-color:red;\n",
    "    border-radius: 10px; \n",
    "    white-space: pre;\n",
    "    content: ' g1 ';\n",
    "    }\n",
    ".fa-g2bad:before {\n",
    "    font-family: Arial; \n",
    "    font-weight: bold;\n",
    "    font-size: 12px;\n",
    "    color: white;\n",
    "    background-color:red;\n",
    "    border-radius: 10px; \n",
    "    white-space: pre;\n",
    "    content: ' g2 ';\n",
    "    }\n",
    ".fa-g3bad:before {\n",
    "    font-family: Arial; \n",
    "    font-weight: bold;\n",
    "    font-size: 12px;\n",
    "    color: white;\n",
    "    background-color:red;\n",
    "    border-radius: 10px; \n",
    "    white-space: pre;\n",
    "    content: ' g3 ';\n",
    "    }\n",
    ".fa-g4bad:before {\n",
    "    font-family: Arial; \n",
    "    font-weight: bold;\n",
    "    font-size: 12px;\n",
    "    color: white;\n",
    "    background-color:red;\n",
    "    border-radius: 10px; \n",
    "    white-space: pre;\n",
    "    content: ' g4 ';\n",
    "    }\n",
    "</style>\n",
    "\"\"\"\n",
    "# the below is just add above  CSS class to folium root map      \n",
    "m.get_root().html.add_child(folium.Element(my_symbol_css_class))\n",
    "# then we just create marker and specific your css class in icon like below\n",
    "for index, row in Parc_Numeric_Data.iterrows():\n",
    "    if row['cluster'] == 1 and row['Number of Seats'] <= 2:\n",
    "        color='black'\n",
    "        fa_symbol = 'fa-g1'\n",
    "        lay = layer1\n",
    "    elif row['cluster'] == 1 and row['Number of Seats'] >= 2:\n",
    "        color='black'\n",
    "        fa_symbol = 'fa-g1bad'\n",
    "        lay = layer1\n",
    "    elif row['cluster'] == 2 and row['Number of Seats'] <= 2:\n",
    "        color='purple'\n",
    "        fa_symbol = 'fa-g2'\n",
    "        lay = layer2\n",
    "    elif row['cluster'] == 2 and row['Number of Seats'] >= 2:\n",
    "        color='purple'\n",
    "        fa_symbol = 'fa-g2bad'\n",
    "        lay = layer2        \n",
    "    elif row['cluster'] == 3 and row['Number of Seats'] <= 2:\n",
    "        color='orange'\n",
    "        fa_symbol = 'fa-g3'\n",
    "        lay = layer3\n",
    "    elif row['cluster'] == 3 and row['Number of Seats'] >= 2:\n",
    "        color='orange'\n",
    "        fa_symbol = 'fa-g3bad'\n",
    "        lay = layer3\n",
    "    elif row['cluster'] == 4 and row['Number of Seats'] <= 2:\n",
    "        color='blue'\n",
    "        fa_symbol = 'fa-g4'\n",
    "        lay = layer4\n",
    "    else:\n",
    "        color='blue'\n",
    "        fa_symbol = 'fa-g4bad'\n",
    "        lay = layer4\n",
    "        \n",
    "    folium.Marker(\n",
    "        location=[row['latitude'], row['longitude']],\n",
    "        title = row['Make']+ ' group: {}'.format(str(row['Number of Seats'])),\n",
    "        popup = row['Make']+ ' Group: {}'.format(str(row['Number of Seats'])),\n",
    "        icon= folium.Icon(color=color, icon=fa_symbol, prefix='fa')).add_to(lay)"
   ],
   "metadata": {
    "collapsed": false
   },
   "id": "a4e3974ef6240881"
  },
  {
   "cell_type": "code",
   "execution_count": null,
   "outputs": [],
   "source": [
    "from scipy.spatial import ConvexHull\n",
    "#draw cluster each group\n",
    "#flat line to group path\n",
    "#prepare layer and color for each group\n",
    "layer_list = [layer1,layer2,layer3,layer4]\n",
    "color_list = ['black','purple','orange','blue']\n",
    "for g in Parc_Numeric_Data['cluster'].unique():\n",
    "# this part we apply ConvexHull theory to find the boundary of each group\n",
    "    # first, we have to cut the lat lon in each group \n",
    "    latlon_cut =Parc_Numeric_Data[Parc_Numeric_Data['cluster']==g].iloc[:, 1:3]\n",
    "    # second, scipy already provides  the great function for ConvexHull\n",
    "    # we just throw our dataframe with lat lon in this function\n",
    "    hull = ConvexHull(latlon_cut.values)\n",
    "    # and with magic, we can have new lat lon boundary of each group\n",
    "    Lat = latlon_cut.values[hull.vertices,0]\n",
    "    Long = latlon_cut.values[hull.vertices,1] \n",
    "    # the we create dataframe boundary and convert it to list of lat lon \n",
    "    # for plotting polygon in folium\n",
    "    cluster = pd.DataFrame({'latitude':Lat,'longitude':Long })       \n",
    "    area = list(zip(cluster['latitude'],cluster['longitude']))\n",
    "    # plot polygon\n",
    "    list_index = g-1 # minus 1 to get the same index \n",
    "    lay_cluster = layer_list[list_index ] \n",
    "    folium.Polygon(locations=area,\n",
    "        color=color_list[list_index],\n",
    "        weight=2,\n",
    "        fill=True,\n",
    "        fill_opacity=0.1,\n",
    "        opacity=0.8).add_to(lay_cluster) \n",
    "            \n",
    "# to let the map have selectd layer1 layer2 you created\n",
    "folium.LayerControl(collapsed=False,position= 'bottomright').add_to(m)\n",
    "# save it to html then we can send the file to our colleagues\n",
    "m.save('C:\\\\Users\\\\alvesd\\\\OneDrive - smmt.co.uk\\\\Desktop\\\\Diego_work_folder\\\\python\\\\33_Sales_Target_Region_Vehicle_Seats\\\\Tillett.html')"
   ],
   "metadata": {
    "collapsed": false
   },
   "id": "419956fd671dd0ca"
  },
  {
   "cell_type": "code",
   "execution_count": null,
   "outputs": [],
   "source": [],
   "metadata": {
    "collapsed": false
   },
   "id": "46f7eb0f13a50c22"
  },
  {
   "cell_type": "code",
   "execution_count": null,
   "outputs": [],
   "source": [],
   "metadata": {
    "collapsed": false
   },
   "id": "d6b97f018deb12b3"
  }
 ],
 "metadata": {
  "kernelspec": {
   "display_name": "Python 3",
   "language": "python",
   "name": "python3"
  },
  "language_info": {
   "codemirror_mode": {
    "name": "ipython",
    "version": 2
   },
   "file_extension": ".py",
   "mimetype": "text/x-python",
   "name": "python",
   "nbconvert_exporter": "python",
   "pygments_lexer": "ipython2",
   "version": "2.7.6"
  }
 },
 "nbformat": 4,
 "nbformat_minor": 5
}
